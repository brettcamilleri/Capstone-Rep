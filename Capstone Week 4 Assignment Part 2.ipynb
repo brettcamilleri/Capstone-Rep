{
 "cells": [
  {
   "cell_type": "markdown",
   "metadata": {
    "collapsed": true
   },
   "source": [
    "## Capstone Project Week 4 Part 2"
   ]
  },
  {
   "cell_type": "markdown",
   "metadata": {},
   "source": [
    "### Data <a name=\"data\"></a>"
   ]
  },
  {
   "cell_type": "markdown",
   "metadata": {},
   "source": [
    "Based on the business problem that Pierre has challenged me with, there are a number of factors that will influence our decision:  \n",
    "1. The number of restaurants currently in a given suburb (including French and non-French restaurants)\n",
    "2. The number of, and distance, to any French restaurants in a given suburb\n",
    "3. The distance of a given suburb from the city centre\n",
    "\n",
    "The following data sources will be needed to determine the required information:\n",
    "1. **Wikipedia** to scrape a list of potential suburbs for the restaurant\n",
    "2. **Forsquare API** to calculate the number of restaurants and their type and location in the relevant suburbs\n",
    "3. **Google Maps API** to determine the geocoding coordinate of Sydney’s centre"
   ]
  }
 ],
 "metadata": {
  "kernelspec": {
   "display_name": "Python 3.6",
   "language": "python",
   "name": "python3"
  },
  "language_info": {
   "codemirror_mode": {
    "name": "ipython",
    "version": 3
   },
   "file_extension": ".py",
   "mimetype": "text/x-python",
   "name": "python",
   "nbconvert_exporter": "python",
   "pygments_lexer": "ipython3",
   "version": "3.6.9"
  }
 },
 "nbformat": 4,
 "nbformat_minor": 1
}
