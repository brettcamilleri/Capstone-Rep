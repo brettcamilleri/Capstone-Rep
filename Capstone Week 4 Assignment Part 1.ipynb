{
 "cells": [
  {
   "cell_type": "markdown",
   "metadata": {
    "collapsed": true
   },
   "source": [
    "## Capstone Project Week 4 Part 1"
   ]
  },
  {
   "cell_type": "markdown",
   "metadata": {},
   "source": [
    "### Introduction: Business Problem <a name=\"introduction\"></a>"
   ]
  },
  {
   "cell_type": "markdown",
   "metadata": {},
   "source": [
    "A friend of mine (Pierre) has recently moved to Sydney, and is looking to open a French restaurant. Pierre is new to Sydney and has little knowledge of the geography. He is therefore open to launching the restaurant in any location, as long as the suburb is not overcrowded with restaurants and currently there are no French restaurants. In addition to this he would like the location to be relatively close to the city centre. \n",
    "\n",
    "Pierre knows that I am close to completing my Data Science training course, so asked if I was willing to use a data driven approach to recommending a suburb for his restaurant. He said that he is willing to pay for my time. I agreed on the condition that the payment is made with a free meal at his restaurant. \n",
    "\n",
    "Therefore the business problem I am attempting to solve is to determine the optimal suburb for a French restaurant, based on the follow criteria: \n",
    "\n",
    "1. Suburb is Sydney, Australia\n",
    "2. Suburb has a relatively low number of existing restaurants\n",
    "3. Suburb currently has no French restaurants\n",
    "4. Suburb is as close to the city centre as possible\n",
    "\n",
    "To solve this problem, I will develop an algorithm to generate a few of the most promising locations based on the above criteria. Advantages of each suburb will then be clearly expressed so that the best possible final location can be chosen by Pierre."
   ]
  }
 ],
 "metadata": {
  "kernelspec": {
   "display_name": "Python 3.6",
   "language": "python",
   "name": "python3"
  },
  "language_info": {
   "codemirror_mode": {
    "name": "ipython",
    "version": 3
   },
   "file_extension": ".py",
   "mimetype": "text/x-python",
   "name": "python",
   "nbconvert_exporter": "python",
   "pygments_lexer": "ipython3",
   "version": "3.6.9"
  }
 },
 "nbformat": 4,
 "nbformat_minor": 1
}
